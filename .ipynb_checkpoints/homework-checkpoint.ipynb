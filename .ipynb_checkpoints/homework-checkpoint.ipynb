{
 "cells": [
  {
   "cell_type": "markdown",
   "metadata": {},
   "source": [
    "# Week 2 - Monday Lesson (variable assignment, loops, lists)"
   ]
  },
  {
   "cell_type": "markdown",
   "metadata": {},
   "source": [
    "## Tasks Today:\n",
    "\n",
    "1) Int & Float assignments <br>\n",
    " &nbsp;&nbsp;&nbsp;&nbsp; a) Assigning int <br>\n",
    " &nbsp;&nbsp;&nbsp;&nbsp; b) Assigning float <br>\n",
    " &nbsp;&nbsp;&nbsp;&nbsp; c) Performing Calculations on ints and floats <br>\n",
    " &nbsp;&nbsp;&nbsp;&nbsp;&nbsp;&nbsp;&nbsp;&nbsp; - Addition <br>\n",
    " &nbsp;&nbsp;&nbsp;&nbsp;&nbsp;&nbsp;&nbsp;&nbsp; - Subtraction <br>\n",
    " &nbsp;&nbsp;&nbsp;&nbsp;&nbsp;&nbsp;&nbsp;&nbsp; - Multiplication <br>\n",
    " &nbsp;&nbsp;&nbsp;&nbsp;&nbsp;&nbsp;&nbsp;&nbsp; - Division <br>\n",
    " &nbsp;&nbsp;&nbsp;&nbsp;&nbsp;&nbsp;&nbsp;&nbsp; - Floor Division <br>\n",
    " &nbsp;&nbsp;&nbsp;&nbsp;&nbsp;&nbsp;&nbsp;&nbsp; - Modulo <br>\n",
    " &nbsp;&nbsp;&nbsp;&nbsp;&nbsp;&nbsp;&nbsp;&nbsp; - Exponential <br>\n",
    "2) String Input-Output <br>\n",
    " &nbsp;&nbsp;&nbsp;&nbsp; a) String Assignment <br>\n",
    " &nbsp;&nbsp;&nbsp;&nbsp; b) print() <br>\n",
    " &nbsp;&nbsp;&nbsp;&nbsp; c) String Concatenation <br>\n",
    " &nbsp;&nbsp;&nbsp;&nbsp; d) Escape Characters <br>\n",
    " &nbsp;&nbsp;&nbsp;&nbsp; e) Type Conversion <br>\n",
    " &nbsp;&nbsp;&nbsp;&nbsp; f) format() <br>\n",
    " &nbsp;&nbsp;&nbsp;&nbsp; g) Old Way (python 2) <br>\n",
    "3) <b>In-Class Exercise #1</b> <br>\n",
    "4) Booleans <br>\n",
    "5) If Statements <br>\n",
    " &nbsp;&nbsp;&nbsp;&nbsp; a) syntax <br>\n",
    " &nbsp;&nbsp;&nbsp;&nbsp; b) truth tree <br>\n",
    " &nbsp;&nbsp;&nbsp;&nbsp; c) and/or <br>\n",
    " &nbsp;&nbsp;&nbsp;&nbsp; d) elif <br>\n",
    " &nbsp;&nbsp;&nbsp;&nbsp; 3) else <br>\n",
    "6) <b>In-Class Exercise #2</b> <br>\n",
    "7) Lists <br>\n",
    " &nbsp;&nbsp;&nbsp;&nbsp; a) Declaring Lists <br>\n",
    " &nbsp;&nbsp;&nbsp;&nbsp; b) Indexing a List <br>\n",
    " &nbsp;&nbsp;&nbsp;&nbsp; c) .append() <br>\n",
    " &nbsp;&nbsp;&nbsp;&nbsp; d) .insert() <br>\n",
    " &nbsp;&nbsp;&nbsp;&nbsp; e) .pop() <br>\n",
    " &nbsp;&nbsp;&nbsp;&nbsp; f) .remove() <br>\n",
    " &nbsp;&nbsp;&nbsp;&nbsp; g) del() <br>\n",
    " &nbsp;&nbsp;&nbsp;&nbsp; h) Concatenating Two Lists <br>\n",
    " &nbsp;&nbsp;&nbsp;&nbsp; i) Lists Within Lists <br>\n",
    " &nbsp;&nbsp;&nbsp;&nbsp; j) Looping Through Lists <br>\n",
    "8) For Loops <br>\n",
    " &nbsp;&nbsp;&nbsp;&nbsp; a) Using 'in' keyword <br>\n",
    " &nbsp;&nbsp;&nbsp;&nbsp; b) Continue Statement <br>\n",
    " &nbsp;&nbsp;&nbsp;&nbsp; c) Break Statement <br>\n",
    " &nbsp;&nbsp;&nbsp;&nbsp; d) Pass Statement <br>\n",
    " &nbsp;&nbsp;&nbsp;&nbsp; e) Double For Loops <br>\n",
    "9) While Loops <br>\n",
    " &nbsp;&nbsp;&nbsp;&nbsp; a) Looping 'While True' <br>\n",
    " &nbsp;&nbsp;&nbsp;&nbsp; b) While and For Loops Used Together <br>\n",
    "10) Built-In Functions <br>\n",
    " &nbsp;&nbsp;&nbsp;&nbsp; a) input() <br>\n",
    " &nbsp;&nbsp;&nbsp;&nbsp; b) range() <br>\n",
    " &nbsp;&nbsp;&nbsp;&nbsp; b) len() <br>\n",
    " &nbsp;&nbsp;&nbsp;&nbsp; c) help() <br>\n",
    " &nbsp;&nbsp;&nbsp;&nbsp; d) isinstance() <br>\n",
    "\n"
   ]
  },
  {
   "cell_type": "code",
   "execution_count": null,
   "metadata": {},
   "outputs": [],
   "source": [
    "print(\"Hello World!!!\")"
   ]
  },
  {
   "cell_type": "markdown",
   "metadata": {},
   "source": [
    "# Int & Float Assignments"
   ]
  },
  {
   "cell_type": "markdown",
   "metadata": {},
   "source": [
    "##### Assigning int"
   ]
  },
  {
   "cell_type": "code",
   "execution_count": null,
   "metadata": {},
   "outputs": [],
   "source": [
    "# variable_name = value\n",
    "# Python Standard Naming Convention - all lowercase - snake case - snake_case\n"
   ]
  },
  {
   "cell_type": "code",
   "execution_count": 2,
   "metadata": {},
   "outputs": [
    {
     "name": "stdout",
     "output_type": "stream",
     "text": [
      "5\n",
      "<class 'int'>\n"
     ]
    }
   ],
   "source": [
    "my_number = 5\n",
    "\n",
    "print(my_number)\n",
    "print(type(my_number))      "
   ]
  },
  {
   "cell_type": "markdown",
   "metadata": {},
   "source": [
    "##### Assinging float"
   ]
  },
  {
   "cell_type": "code",
   "execution_count": 3,
   "metadata": {},
   "outputs": [
    {
     "name": "stdout",
     "output_type": "stream",
     "text": [
      "5.67\n",
      "<class 'float'>\n"
     ]
    }
   ],
   "source": [
    "my_float_number = 5.67\n",
    "\n",
    "print(my_float_number)\n",
    "print(type(my_float_number))"
   ]
  },
  {
   "cell_type": "code",
   "execution_count": null,
   "metadata": {},
   "outputs": [],
   "source": [
    "# The decimal (.) that is doing the heavy lifting - tells Python that is a float\n"
   ]
  },
  {
   "cell_type": "markdown",
   "metadata": {},
   "source": [
    "#### Performing Calculations on ints and floats"
   ]
  },
  {
   "cell_type": "markdown",
   "metadata": {},
   "source": [
    "##### Addition"
   ]
  },
  {
   "cell_type": "code",
   "execution_count": 14,
   "metadata": {},
   "outputs": [
    {
     "name": "stdout",
     "output_type": "stream",
     "text": [
      "64\n",
      "<class 'int'>\n"
     ]
    }
   ],
   "source": [
    "# use the plus operator (+) \n",
    "\n",
    "num1 = 43\n",
    "num2 = 21\n",
    "\n",
    "# int + int -> int\n",
    "# int + float -> float\n",
    "# float + float -> float \n",
    "\n",
    "result = num1 + num2\n",
    "print(result)\n",
    "print(type(result))\n"
   ]
  },
  {
   "cell_type": "code",
   "execution_count": 7,
   "metadata": {},
   "outputs": [
    {
     "name": "stdout",
     "output_type": "stream",
     "text": [
      "64.2\n",
      "79.2\n"
     ]
    }
   ],
   "source": [
    "print(result)\n",
    "\n",
    "result+= 15 # result = result + 15\n",
    "\n",
    "print(result)"
   ]
  },
  {
   "cell_type": "code",
   "execution_count": 8,
   "metadata": {},
   "outputs": [
    {
     "name": "stdout",
     "output_type": "stream",
     "text": [
      "15\n"
     ]
    }
   ],
   "source": [
    "x = 10\n",
    "\n",
    "x += 5 # x - x + 5\n",
    "\n",
    "print(x)"
   ]
  },
  {
   "cell_type": "markdown",
   "metadata": {},
   "source": [
    "##### Subtraction"
   ]
  },
  {
   "cell_type": "code",
   "execution_count": 11,
   "metadata": {},
   "outputs": [
    {
     "name": "stdout",
     "output_type": "stream",
     "text": [
      "22.200000000000003\n",
      "<class 'float'>\n",
      "17.200000000000003\n"
     ]
    }
   ],
   "source": [
    "# Use the minus operator (-)\n",
    "\n",
    "difference = num1 - num2\n",
    "\n",
    "print(difference)\n",
    "print(type(difference))\n",
    "\n",
    "# assignment operator (-=)\n",
    "\n",
    "difference -= 5 # difference = difference - 5\n",
    "\n",
    "print(difference)"
   ]
  },
  {
   "cell_type": "markdown",
   "metadata": {},
   "source": [
    "##### Multiplication"
   ]
  },
  {
   "cell_type": "code",
   "execution_count": 13,
   "metadata": {},
   "outputs": [
    {
     "name": "stdout",
     "output_type": "stream",
     "text": [
      "84\n",
      "<class 'int'>\n",
      "168\n"
     ]
    }
   ],
   "source": [
    "# use the asterisk or star (*)\n",
    "\n",
    "product = 12 * 7\n",
    "\n",
    "print(product)\n",
    "print(type(product))\n",
    "\n",
    "# Assignment Operator(*=)\n",
    "\n",
    "product *= 2 #product = product * 2\n",
    "\n",
    "print(product)"
   ]
  },
  {
   "cell_type": "markdown",
   "metadata": {},
   "source": [
    "##### Division"
   ]
  },
  {
   "cell_type": "code",
   "execution_count": 16,
   "metadata": {},
   "outputs": [
    {
     "name": "stdout",
     "output_type": "stream",
     "text": [
      "10.0\n",
      "<class 'float'>\n",
      "2.5\n"
     ]
    }
   ],
   "source": [
    "# Use the forward slash (/) \n",
    "\n",
    "# ALWAYS RESULTS IN A FLOAT \n",
    "\n",
    "num3 = 50\n",
    "num4 = 5\n",
    "\n",
    "quotient = num3 / num4\n",
    "\n",
    "print(quotient)\n",
    "print(type(quotient))\n",
    "\n",
    "# Assignment Operator (/=)\n",
    "\n",
    "quotient /= 4 # quotient = quotient / 4\n",
    "\n",
    "print(quotient)\n"
   ]
  },
  {
   "cell_type": "markdown",
   "metadata": {},
   "source": [
    "##### Floor Division"
   ]
  },
  {
   "cell_type": "code",
   "execution_count": 20,
   "metadata": {
    "scrolled": true
   },
   "outputs": [
    {
     "name": "stdout",
     "output_type": "stream",
     "text": [
      "3.75\n",
      "3\n",
      "1\n"
     ]
    }
   ],
   "source": [
    "# Soemtimes also referred to as integer division \n",
    "\n",
    "# This will return the 'floor'. Floor is defined as the highest integer that is less than or equal to the value. Essentially cuts the decimal out\n",
    "\n",
    "result_normal = 15 / 4\n",
    "print(result_normal)\n",
    "\n",
    "# Use the double slash (//)\n",
    "result_floor = 15 // 4\n",
    "print(result_floor)\n",
    "\n",
    "# Assignment Operator (//=)\n",
    "\n",
    "result_floor //= 2 #result_floor (what it currently is) = result_floor // 2\n",
    "print(result_floor)"
   ]
  },
  {
   "cell_type": "markdown",
   "metadata": {},
   "source": [
    "##### Modulo"
   ]
  },
  {
   "cell_type": "code",
   "execution_count": 23,
   "metadata": {},
   "outputs": [
    {
     "name": "stdout",
     "output_type": "stream",
     "text": [
      "3\n",
      "1\n"
     ]
    }
   ],
   "source": [
    "# Use the percent operator (%) \n",
    "\n",
    "# will return the remainder of a division problem \n",
    "\n",
    "num5 = 48\n",
    "num6 = 5\n",
    "\n",
    "result_mod = num5 % num6\n",
    "print(result_mod)   # 5 goes into 45 9 times, with a remainder of 3\n",
    "\n",
    "# Assignment Operator (%=)\n",
    "\n",
    "result_mod %= 2\n",
    "print(result_mod)"
   ]
  },
  {
   "cell_type": "code",
   "execution_count": 26,
   "metadata": {},
   "outputs": [
    {
     "name": "stdout",
     "output_type": "stream",
     "text": [
      "1\n"
     ]
    }
   ],
   "source": [
    "# determine if a nubmer is even or odd \n",
    "\n",
    "# if a number is even, 2 goes into the number evenly with a remainder of 0 \n",
    "# if a nubmer is odd, 2 goes into the number with a remainder of 1 \n",
    "\n",
    "some_number = 55\n",
    "print(some_number % 2)\n"
   ]
  },
  {
   "cell_type": "markdown",
   "metadata": {},
   "source": [
    "##### Exponential"
   ]
  },
  {
   "cell_type": "code",
   "execution_count": 29,
   "metadata": {},
   "outputs": [
    {
     "name": "stdout",
     "output_type": "stream",
     "text": [
      "25\n",
      "15625\n"
     ]
    }
   ],
   "source": [
    "# Use the double-asterisk (**)\n",
    "\n",
    "square = 5 ** 2\n",
    "print(square)\n",
    "\n",
    "# Assignment Operator (**=)\n",
    "square **= 3\n",
    "print(square)"
   ]
  },
  {
   "cell_type": "markdown",
   "metadata": {},
   "source": [
    "### String Input-Output"
   ]
  },
  {
   "cell_type": "markdown",
   "metadata": {},
   "source": [
    "##### String Assignment"
   ]
  },
  {
   "cell_type": "code",
   "execution_count": 30,
   "metadata": {},
   "outputs": [
    {
     "name": "stdout",
     "output_type": "stream",
     "text": [
      "Brian\n",
      "<class 'str'>\n"
     ]
    }
   ],
   "source": [
    "first_name = 'Brian'\n",
    "\n",
    "print(first_name)\n",
    "print(type(first_name))"
   ]
  },
  {
   "cell_type": "code",
   "execution_count": 31,
   "metadata": {},
   "outputs": [
    {
     "name": "stdout",
     "output_type": "stream",
     "text": [
      "Stanton\n",
      "<class 'str'>\n"
     ]
    }
   ],
   "source": [
    "last_name = \"Stanton\"\n",
    "\n",
    "print(last_name)\n",
    "print(type(last_name))"
   ]
  },
  {
   "cell_type": "code",
   "execution_count": 32,
   "metadata": {},
   "outputs": [
    {
     "ename": "NameError",
     "evalue": "name 'astring' is not defined",
     "output_type": "error",
     "traceback": [
      "\u001b[0;31m---------------------------------------------------------------------------\u001b[0m",
      "\u001b[0;31mNameError\u001b[0m                                 Traceback (most recent call last)",
      "Cell \u001b[0;32mIn[32], line 3\u001b[0m\n\u001b[1;32m      1\u001b[0m \u001b[38;5;66;03m# Quoatation Marks are necessary \u001b[39;00m\n\u001b[0;32m----> 3\u001b[0m wrong \u001b[38;5;241m=\u001b[39m astring \n\u001b[1;32m      5\u001b[0m \u001b[38;5;28mprint\u001b[39m(wrong)\n",
      "\u001b[0;31mNameError\u001b[0m: name 'astring' is not defined"
     ]
    }
   ],
   "source": [
    "# Quoatation Marks are necessary \n",
    "\n",
    "wrong = astring \n",
    "\n",
    "# this will give us a NameError. Python thinks we're setting a variable named Wrong that is equal to the value for 'astring'"
   ]
  },
  {
   "cell_type": "code",
   "execution_count": 34,
   "metadata": {},
   "outputs": [
    {
     "name": "stdout",
     "output_type": "stream",
     "text": [
      "Brian\n"
     ]
    }
   ],
   "source": [
    "me = first_name\n",
    "\n",
    "print(me)"
   ]
  },
  {
   "cell_type": "markdown",
   "metadata": {},
   "source": [
    "##### Escape Characters"
   ]
  },
  {
   "cell_type": "code",
   "execution_count": 36,
   "metadata": {},
   "outputs": [
    {
     "name": "stdout",
     "output_type": "stream",
     "text": [
      "You can't do that\n"
     ]
    }
   ],
   "source": [
    "contraction1 = \"You can't do that\"\n",
    "print(contraction1)"
   ]
  },
  {
   "cell_type": "code",
   "execution_count": 37,
   "metadata": {},
   "outputs": [
    {
     "ename": "SyntaxError",
     "evalue": "unterminated string literal (detected at line 1) (2369211800.py, line 1)",
     "output_type": "error",
     "traceback": [
      "\u001b[0;36m  Cell \u001b[0;32mIn[37], line 1\u001b[0;36m\u001b[0m\n\u001b[0;31m    contraction2 = 'You can't do that'\u001b[0m\n\u001b[0m                                     ^\u001b[0m\n\u001b[0;31mSyntaxError\u001b[0m\u001b[0;31m:\u001b[0m unterminated string literal (detected at line 1)\n"
     ]
    }
   ],
   "source": [
    "contraction2 = 'You can't do that'\n",
    "\n",
    "print(contraction2)"
   ]
  },
  {
   "cell_type": "code",
   "execution_count": 40,
   "metadata": {},
   "outputs": [
    {
     "name": "stdout",
     "output_type": "stream",
     "text": [
      "You can't do that\n"
     ]
    }
   ],
   "source": [
    "# backslash before quotation - read it literally\n",
    "contraction3 = 'You can\\'t do that'\n",
    "print(contraction3)"
   ]
  },
  {
   "cell_type": "code",
   "execution_count": 41,
   "metadata": {},
   "outputs": [
    {
     "name": "stdout",
     "output_type": "stream",
     "text": [
      "He said, \"How are you?\"\n"
     ]
    }
   ],
   "source": [
    "quote1 = 'He said, \"How are you?\"'\n",
    "print(quote1)"
   ]
  },
  {
   "cell_type": "code",
   "execution_count": 42,
   "metadata": {},
   "outputs": [
    {
     "name": "stdout",
     "output_type": "stream",
     "text": [
      "He said, \"How are you?\"\n"
     ]
    }
   ],
   "source": [
    "quote2 = \"He said, \\\"How are you?\\\"\"\n",
    "print(quote2)"
   ]
  },
  {
   "cell_type": "code",
   "execution_count": 46,
   "metadata": {},
   "outputs": [
    {
     "name": "stdout",
     "output_type": "stream",
     "text": [
      "Hello how are you doing today?\n"
     ]
    }
   ],
   "source": [
    "# Backlash allows us to write the string on multiple lines and still be read as one line\n",
    "long_string = 'Hello how are you\\\n",
    " doing today?'\n",
    "\n",
    "print(long_string)"
   ]
  },
  {
   "cell_type": "code",
   "execution_count": 47,
   "metadata": {},
   "outputs": [
    {
     "name": "stdout",
     "output_type": "stream",
     "text": [
      "Hello\n",
      "How are you?\n"
     ]
    }
   ],
   "source": [
    "# \\n - new line character\n",
    "\n",
    "multi_line = \"Hello\\nHow are you?\"\n",
    "print(multi_line)"
   ]
  },
  {
   "cell_type": "code",
   "execution_count": 49,
   "metadata": {},
   "outputs": [
    {
     "name": "stdout",
     "output_type": "stream",
     "text": [
      "Hello\tWorld\n"
     ]
    }
   ],
   "source": [
    "# \\t - tab character\n",
    "tab_line = \"Hello\\tWorld\"\n",
    "print(tab_line)"
   ]
  },
  {
   "cell_type": "code",
   "execution_count": 50,
   "metadata": {},
   "outputs": [
    {
     "name": "stdout",
     "output_type": "stream",
     "text": [
      "Dear Friend,\n",
      "\tI hope you are doing well.\n"
     ]
    }
   ],
   "source": [
    "letter = \"Dear Friend,\\n\\tI hope you are doing well.\"\n",
    "print(letter)"
   ]
  },
  {
   "cell_type": "markdown",
   "metadata": {},
   "source": [
    "#### Triple Quoted String"
   ]
  },
  {
   "cell_type": "code",
   "execution_count": 52,
   "metadata": {},
   "outputs": [
    {
     "name": "stdout",
     "output_type": "stream",
     "text": [
      "This is the first line\n",
      "    This is the second line\n",
      "And this is the final line\n"
     ]
    }
   ],
   "source": [
    "# string that starts and ends with 3 quotations (single or double)\n",
    "# Read line spacing literally\n",
    "\n",
    "triple='''This is the first line\n",
    "    This is the second line\n",
    "And this is the final line'''\n",
    "\n",
    "print(triple)"
   ]
  },
  {
   "cell_type": "code",
   "execution_count": 55,
   "metadata": {},
   "outputs": [
    {
     "name": "stdout",
     "output_type": "stream",
     "text": [
      "This is\n",
      "another example\n",
      "of a triple quoted string\n",
      "<class 'str'>\n"
     ]
    }
   ],
   "source": [
    "triple_again = \"\"\"This is\n",
    "another example\n",
    "of a triple quoted string\"\"\"\n",
    "\n",
    "print(triple_again)\n",
    "print(type(triple_again))\n"
   ]
  },
  {
   "cell_type": "code",
   "execution_count": 57,
   "metadata": {},
   "outputs": [
    {
     "name": "stdout",
     "output_type": "stream",
     "text": [
      "Dear Friend,\\n\\tI hope you are doing well.\n"
     ]
    }
   ],
   "source": [
    "# Raw String - start with r before the quotation marks (r'') or (r\"\")\n",
    "# Read string literally - special characters are not special\n",
    "\n",
    "raw_letter = r\"Dear Friend,\\n\\tI hope you are doing well.\"\n",
    "print(raw_letter)"
   ]
  },
  {
   "cell_type": "code",
   "execution_count": null,
   "metadata": {},
   "outputs": [],
   "source": [
    "my_emaple = r'Brian"
   ]
  },
  {
   "cell_type": "code",
   "execution_count": 59,
   "metadata": {},
   "outputs": [
    {
     "name": "stdout",
     "output_type": "stream",
     "text": [
      "123\n",
      "<class 'str'>\n"
     ]
    }
   ],
   "source": [
    "string_number = '123'\n",
    "\n",
    "print(string_number)\n",
    "print(type(string_number))\n"
   ]
  },
  {
   "cell_type": "markdown",
   "metadata": {},
   "source": [
    "##### String Concatenation"
   ]
  },
  {
   "cell_type": "code",
   "execution_count": 65,
   "metadata": {},
   "outputs": [
    {
     "name": "stdout",
     "output_type": "stream",
     "text": [
      "JohnSmith\n",
      "JohnSmith, Jr.\n"
     ]
    }
   ],
   "source": [
    "first = 'John'\n",
    "last = 'Smith'\n",
    "\n",
    "# Plus operator (+) between two string -> return a NEW string with the two strings combined\n",
    "\n",
    "full = first + last\n",
    "print(full)\n",
    "\n",
    "# += works for strings too!\n",
    "\n",
    "full += ', Jr.' #full = full (currently) + ', Jr.'\n",
    "print(full)"
   ]
  },
  {
   "cell_type": "code",
   "execution_count": 66,
   "metadata": {},
   "outputs": [
    {
     "ename": "TypeError",
     "evalue": "unsupported operand type(s) for +: 'int' and 'str'",
     "output_type": "error",
     "traceback": [
      "\u001b[0;31m---------------------------------------------------------------------------\u001b[0m",
      "\u001b[0;31mTypeError\u001b[0m                                 Traceback (most recent call last)",
      "Cell \u001b[0;32mIn[66], line 4\u001b[0m\n\u001b[1;32m      1\u001b[0m num_a \u001b[38;5;241m=\u001b[39m \u001b[38;5;241m10\u001b[39m \u001b[38;5;66;03m# integer\u001b[39;00m\n\u001b[1;32m      2\u001b[0m num_b \u001b[38;5;241m=\u001b[39m \u001b[38;5;124m'\u001b[39m\u001b[38;5;124m10\u001b[39m\u001b[38;5;124m'\u001b[39m \u001b[38;5;66;03m# string\u001b[39;00m\n\u001b[0;32m----> 4\u001b[0m num_c \u001b[38;5;241m=\u001b[39m num_a \u001b[38;5;241m+\u001b[39m num_b\n\u001b[1;32m      5\u001b[0m \u001b[38;5;28mprint\u001b[39m(num_c)\n",
      "\u001b[0;31mTypeError\u001b[0m: unsupported operand type(s) for +: 'int' and 'str'"
     ]
    }
   ],
   "source": [
    "num_a = 10 # integer\n",
    "num_b = '10' # string\n",
    "\n",
    "num_c = num_a + num_b\n",
    "print(num_c)   # this would give a type error"
   ]
  },
  {
   "cell_type": "markdown",
   "metadata": {},
   "source": [
    "##### Type Conversion"
   ]
  },
  {
   "cell_type": "code",
   "execution_count": 68,
   "metadata": {
    "scrolled": true
   },
   "outputs": [
    {
     "name": "stdout",
     "output_type": "stream",
     "text": [
      "10 <class 'int'>\n",
      "10 <class 'str'>\n"
     ]
    }
   ],
   "source": [
    "print(num_a, type(num_a))\n",
    "print(num_b, type(num_b))\n",
    "    "
   ]
  },
  {
   "cell_type": "code",
   "execution_count": 69,
   "metadata": {},
   "outputs": [
    {
     "name": "stdout",
     "output_type": "stream",
     "text": [
      "10\n",
      "<class 'int'>\n"
     ]
    }
   ],
   "source": [
    "# to convert, pass the value into the built-in type function (usually the name of the class) -> will return a new object\n",
    "# str for string, int for integers, float for floats, etc.\n",
    "\n",
    "num_a_as_int = int(num_a)\n",
    "print(num_a_as_int)\n",
    "print(type(num_a_as_int))\n",
    "\n",
    "# Creates a new variable, the original does not change "
   ]
  },
  {
   "cell_type": "code",
   "execution_count": 71,
   "metadata": {},
   "outputs": [
    {
     "name": "stdout",
     "output_type": "stream",
     "text": [
      "20\n"
     ]
    }
   ],
   "source": [
    "num_c = num_a + int(num_b)\n",
    "print(num_c)"
   ]
  },
  {
   "cell_type": "code",
   "execution_count": 73,
   "metadata": {},
   "outputs": [
    {
     "name": "stdout",
     "output_type": "stream",
     "text": [
      "3.14\n",
      "<class 'float'>\n"
     ]
    }
   ],
   "source": [
    "pi = '3.14'\n",
    "\n",
    "f_pi = float(pi)\n",
    "print(f_pi)\n",
    "print(type(f_pi))"
   ]
  },
  {
   "cell_type": "code",
   "execution_count": 74,
   "metadata": {},
   "outputs": [
    {
     "name": "stdout",
     "output_type": "stream",
     "text": [
      "10 <class 'int'>\n",
      "10 <class 'str'>\n"
     ]
    }
   ],
   "source": [
    "print(num_a, type(num_a))\n",
    "\n",
    "num_a_as_str = str(num_a)\n",
    "\n",
    "print(num_a_as_str, type(num_a_as_str))"
   ]
  },
  {
   "cell_type": "markdown",
   "metadata": {},
   "source": [
    "##### .format() and f-strings"
   ]
  },
  {
   "cell_type": "code",
   "execution_count": 77,
   "metadata": {
    "scrolled": false
   },
   "outputs": [
    {
     "name": "stdout",
     "output_type": "stream",
     "text": [
      "Help on method_descriptor:\n",
      "\n",
      "format(...)\n",
      "    S.format(*args, **kwargs) -> str\n",
      "    \n",
      "    Return a formatted version of S, using substitutions from args and kwargs.\n",
      "    The substitutions are identified by braces ('{' and '}').\n",
      "\n"
     ]
    }
   ],
   "source": [
    "help(str.format)"
   ]
  },
  {
   "cell_type": "code",
   "execution_count": 78,
   "metadata": {},
   "outputs": [
    {
     "name": "stdout",
     "output_type": "stream",
     "text": [
      "Hello, my name is Tom Brady and I am 47 years olf and I am from San Francisco\n"
     ]
    }
   ],
   "source": [
    "first_name = 'Tom'\n",
    "last_name = 'Brady'\n",
    "city = 'San Francisco'\n",
    "age = 47\n",
    "\n",
    "intro_text =\"Hello, my name is {} {} and I am {} years olf and I am from {}\".format(first_name, last_name, age, city)\n",
    "\n",
    "print(intro_text)"
   ]
  },
  {
   "cell_type": "code",
   "execution_count": 81,
   "metadata": {},
   "outputs": [
    {
     "name": "stdout",
     "output_type": "stream",
     "text": [
      "Hello, my name is Tom Brady and I am 47 years old and I am from San Francisco.\n"
     ]
    }
   ],
   "source": [
    "# f-string - another way of formatting a string -> uses curly braces with a variable name in them\n",
    "# and a lowercase f before the string (f'') or (f\"\")\n",
    "\n",
    "intro_text2 = f\"Hello, my name is {first_name} {last_name} and I am {age} years old and I am from {city}.\"\n",
    "\n",
    "print(intro_text2)"
   ]
  },
  {
   "cell_type": "code",
   "execution_count": 83,
   "metadata": {},
   "outputs": [
    {
     "name": "stdout",
     "output_type": "stream",
     "text": [
      "Hello, I am TOM and in 5 years I will be 52\n",
      "Hello I am TOM and in 5 years I will be 52\n"
     ]
    }
   ],
   "source": [
    "# .format and f-string allows us to run expression for format our string\n",
    "\n",
    "add_age1 = f'Hello, I am {first_name.upper()} and in 5 years I will be {age + 5}'\n",
    "print(add_age1)\n",
    "\n",
    "\n",
    "\n",
    "add_age2 = \"Hello I am {} and in 5 years I will be {}\".format(first_name.upper(), age + 5)\n",
    "print(add_age2)"
   ]
  },
  {
   "cell_type": "markdown",
   "metadata": {},
   "source": [
    "##### Old Way (python 2)"
   ]
  },
  {
   "cell_type": "code",
   "execution_count": 84,
   "metadata": {},
   "outputs": [
    {
     "name": "stdout",
     "output_type": "stream",
     "text": [
      "Hello my name is Tom and I am from San Francisco\n"
     ]
    }
   ],
   "source": [
    "print(\"Hello my name is %s and I am from %s\" % (first_name, city))"
   ]
  },
  {
   "cell_type": "code",
   "execution_count": 86,
   "metadata": {
    "scrolled": true
   },
   "outputs": [
    {
     "ename": "SyntaxError",
     "evalue": "invalid syntax (1652413575.py, line 3)",
     "output_type": "error",
     "traceback": [
      "\u001b[0;36m  Cell \u001b[0;32mIn[86], line 3\u001b[0;36m\u001b[0m\n\u001b[0;31m    print(\"The result is %i\", % result)\u001b[0m\n\u001b[0m                              ^\u001b[0m\n\u001b[0;31mSyntaxError\u001b[0m\u001b[0;31m:\u001b[0m invalid syntax\n"
     ]
    }
   ],
   "source": [
    "result = 10 + 5 \n",
    "\n",
    "print(\"The result is %i\", % result) "
   ]
  },
  {
   "cell_type": "markdown",
   "metadata": {},
   "source": [
    "# In-Class Exercise 1 <br>\n",
    "<p>Increase the year by 1 and then print out the following statement using type conversion and a formatted string</p>"
   ]
  },
  {
   "cell_type": "code",
   "execution_count": 87,
   "metadata": {},
   "outputs": [
    {
     "name": "stdout",
     "output_type": "stream",
     "text": [
      "I drive a blue 2023 Ford Focus.\n"
     ]
    }
   ],
   "source": [
    "#OUTPUT:  I drive a blue 2023 Ford Focus.\n",
    "color = 'blue'\n",
    "make = 'Ford'\n",
    "year = '2022'\n",
    "model = 'Focus'\n",
    "\n",
    "# year conv to int\n",
    "# year fx + 1\n",
    "# format str for color, year, make, model \n",
    "\n",
    "yearconv = int(year)\n",
    "yearfinal = yearconv + 1\n",
    "result = f\"I drive a {color} {yearfinal} {make} {model}.\"\n",
    "print(result)"
   ]
  },
  {
   "cell_type": "markdown",
   "metadata": {},
   "source": [
    "### Booleans"
   ]
  },
  {
   "cell_type": "code",
   "execution_count": 88,
   "metadata": {},
   "outputs": [
    {
     "name": "stdout",
     "output_type": "stream",
     "text": [
      "True\n",
      "<class 'bool'>\n"
     ]
    }
   ],
   "source": [
    "bool_true = True\n",
    "print(bool_true)\n",
    "print(type(bool_true))"
   ]
  },
  {
   "cell_type": "code",
   "execution_count": 89,
   "metadata": {},
   "outputs": [
    {
     "name": "stdout",
     "output_type": "stream",
     "text": [
      "False\n",
      "<class 'bool'>\n"
     ]
    }
   ],
   "source": [
    "bool_false = False\n",
    "print(bool_false)\n",
    "print(type(bool_false))"
   ]
  },
  {
   "cell_type": "markdown",
   "metadata": {},
   "source": [
    "### If Statements"
   ]
  },
  {
   "cell_type": "code",
   "execution_count": 90,
   "metadata": {},
   "outputs": [
    {
     "name": "stdout",
     "output_type": "stream",
     "text": [
      "Hello this is a statement that is being run because the if evaluated to True\n"
     ]
    }
   ],
   "source": [
    "# if <expression>:   <expression> must result in a boolean (True or False) or object with (Truthy/Falsy) value\n",
    "#     <statement>\n",
    "\n",
    "# INDENTATION MATTERS!!!!!!\n",
    "# All lines that are indented under the if statement will only run if the expression is True\n",
    "\n",
    "if True:\n",
    "    print('Hello this is a statement that is being run because the if evaluated to True')\n"
   ]
  },
  {
   "cell_type": "code",
   "execution_count": 91,
   "metadata": {},
   "outputs": [],
   "source": [
    "if False:\n",
    "    print('Hello this is a statement that is being run because the if evaluated to True')"
   ]
  },
  {
   "cell_type": "code",
   "execution_count": 94,
   "metadata": {},
   "outputs": [
    {
     "name": "stdout",
     "output_type": "stream",
     "text": [
      "Start code...\n",
      "How are you?\n",
      "End code...\n"
     ]
    }
   ],
   "source": [
    "print('Start code...')\n",
    "\n",
    "if False:\n",
    "    print('Hello')\n",
    "print('How are you?')\n",
    "    \n",
    "print('End code...')    "
   ]
  },
  {
   "cell_type": "code",
   "execution_count": 103,
   "metadata": {},
   "outputs": [
    {
     "name": "stdout",
     "output_type": "stream",
     "text": [
      "True\n",
      "False\n",
      "True\n",
      "True\n",
      "False\n",
      "True\n",
      "False\n"
     ]
    }
   ],
   "source": [
    "# Available operators: Greater(>), Less(<), Equal(==)\n",
    "# Greater or Equal(>=), Less or Equal (<=), Not Equal (!=)\n",
    "# Return value is a Boolean (True or False)\n",
    "\n",
    "num1 = 10\n",
    "num2 = 5\n",
    "num3 = 2\n",
    "\n",
    "print(num1 > num2)\n",
    "print(num3 < num3)\n",
    "print(num1 == num2 * num3)\n",
    "print(num1 >= num2 * num3)\n",
    "print(num1 < num2 * num3)\n",
    "print(num1 != num2)\n",
    "print(num1 != num2 * num3)"
   ]
  },
  {
   "cell_type": "code",
   "execution_count": 108,
   "metadata": {},
   "outputs": [
    {
     "name": "stdout",
     "output_type": "stream",
     "text": [
      "10 is greater than 5\n",
      "10 is greater than or equal to 5 times 2\n"
     ]
    }
   ],
   "source": [
    "if num1 > num2:# True\n",
    "    print(f\"{num1} is greater than {num2}\")\n",
    "    \n",
    "    \n",
    "if num2 < num3: # False\n",
    "    print(f\"{num2} is less than {num2}\")\n",
    "    \n",
    "if num1 >= num2 * num3:\n",
    "    print(f\"{num1} is greater than or equal to {num2} times {num3}\")"
   ]
  },
  {
   "cell_type": "markdown",
   "metadata": {},
   "source": [
    "## Using 'and'/'or' with If Statements"
   ]
  },
  {
   "cell_type": "code",
   "execution_count": 111,
   "metadata": {},
   "outputs": [
    {
     "name": "stdout",
     "output_type": "stream",
     "text": [
      "Reject student...\n"
     ]
    }
   ],
   "source": [
    "# Truth Tree for OR: (ONLY ONE NEEDS TO BE TRUE FOR THE ENTIRE THING TO BE TRUE)\n",
    "# T or T = T\n",
    "# T or F = T\n",
    "# F or T = T\n",
    "# F or F = F\n",
    "\n",
    "# To pass through to the next round, a students needs at least a 2.5 GPA or at least a 25 ACT\n",
    "\n",
    "\n",
    "potential_candidate_gpa = 2.0\n",
    "potential_candidate_act = 20\n",
    "\n",
    "# Logic for passing a student\n",
    "if potential_candidate_gpa >= 2.5 or potential_candidate_act >= 25:\n",
    "    print('Student meets requirements. Move on to next round')\n",
    "else:\n",
    "    print('Reject student...')\n"
   ]
  },
  {
   "cell_type": "code",
   "execution_count": 115,
   "metadata": {},
   "outputs": [
    {
     "name": "stdout",
     "output_type": "stream",
     "text": [
      "Reject student...\n"
     ]
    }
   ],
   "source": [
    "# Truth Tree for AND: (BOTH/ALL NEED TO BE TRUE)\n",
    "# T and T = T\n",
    "# T and F = F\n",
    "# F and T = F\n",
    "# F and F = F\n",
    "\n",
    "# To pass through to the next round, a students needs at least a 2.5 GPA AND at least a 25 ACT\n",
    "\n",
    "potential_candidate_gpa = 2.49999\n",
    "potential_candidate_act = 30\n",
    "\n",
    "# Logic for passing a student\n",
    "if potential_candidate_gpa >= 2.5 and potential_candidate_act >= 25:\n",
    "    print('Student meets requirements. Move on to next round')\n",
    "else:\n",
    "    print('Reject student...')"
   ]
  },
  {
   "cell_type": "code",
   "execution_count": 117,
   "metadata": {},
   "outputs": [
    {
     "name": "stdout",
     "output_type": "stream",
     "text": [
      "The numer is 1 or 7\n"
     ]
    }
   ],
   "source": [
    "# with OR/AND, you must put full experession everytime \n",
    "\n",
    "number = 5\n",
    "\n",
    "if number == 1 or 7:\n",
    "    print('The number is 1 or 7')\n",
    "else:\n",
    "    print(f'Not 1 or 7, the number is {number}')\n",
    "    \n",
    "    #this is incorrect because full exp isn't written out"
   ]
  },
  {
   "cell_type": "code",
   "execution_count": 118,
   "metadata": {},
   "outputs": [
    {
     "name": "stdout",
     "output_type": "stream",
     "text": [
      "Not 1 or 7, the number is 5\n"
     ]
    }
   ],
   "source": [
    "number = 5\n",
    "\n",
    "if number == 1 or number == 7:\n",
    "    print('The number is 1 or 7')\n",
    "else:\n",
    "    print(f'Not 1 or 7, the number is {number}')"
   ]
  },
  {
   "cell_type": "markdown",
   "metadata": {},
   "source": [
    "### Else Statements"
   ]
  },
  {
   "cell_type": "code",
   "execution_count": 122,
   "metadata": {},
   "outputs": [
    {
     "name": "stdout",
     "output_type": "stream",
     "text": [
      "You are eligible to vote\n"
     ]
    }
   ],
   "source": [
    "# An else statement runs when the if statement *DIRECLTY* above it evaluates to False\n",
    "\n",
    "age = 22\n",
    "\n",
    "if age >= 35:\n",
    "    print('You are eligible to run for president')\n",
    "\n",
    "if age >= 18:\n",
    "    print('You are eligible to vote')\n",
    "else: \n",
    "    print('You are still too young to vote')"
   ]
  },
  {
   "cell_type": "markdown",
   "metadata": {},
   "source": [
    "### Elif Statements"
   ]
  },
  {
   "cell_type": "code",
   "execution_count": 126,
   "metadata": {},
   "outputs": [
    {
     "name": "stdout",
     "output_type": "stream",
     "text": [
      "You cannot see this film until you are older\n"
     ]
    }
   ],
   "source": [
    "# An elif only runs when the if (or elif) directly above it evaluates to False\n",
    "\n",
    "# Pretend we are checking tickets at the movie theater for an R-Rated movie\n",
    "# If the movie goer is above 18, just say thanks and enjoy the show\n",
    "# if the movie goer is above 14, check if they have a parent with them, can see if so\n",
    "# no movie goers under 14 or under 18 without parent\n",
    "\n",
    "\n",
    "# rules for entry\n",
    "required_age = 18\n",
    "with_parent_age = 14\n",
    "\n",
    "#customer_info\n",
    "customer_age = 12\n",
    "has_parent = False\n",
    "\n",
    "if customer_age >= required_age:\n",
    "    print('Thanks and enjoy the show!')\n",
    "elif customer_age >= with_parent_age and has_parent:\n",
    "    print('Cool, enjoy the movie with the folks')\n",
    "elif customer_age >= with_parent_age and not has_parent:\n",
    "    print('You are old enough to see this with a parent, but I do not see one here')\n",
    "else: \n",
    "    print('You cannot see this film until you are older')\n"
   ]
  },
  {
   "cell_type": "code",
   "execution_count": 130,
   "metadata": {},
   "outputs": [
    {
     "name": "stdout",
     "output_type": "stream",
     "text": [
      "Drink whiskey\n"
     ]
    }
   ],
   "source": [
    "age = 80\n",
    "\n",
    "if age < 18:\n",
    "    drink_choice = 'toddy'\n",
    "elif age < 21:\n",
    "    drink_choice = 'coke'\n",
    "elif age < 50:\n",
    "    drink_choice = 'beer'\n",
    "else:\n",
    "    drink_choice = 'whiskey'\n",
    "    \n",
    "print(f\"Drink {drink_choice}\")"
   ]
  },
  {
   "cell_type": "markdown",
   "metadata": {},
   "source": [
    "### In-Class Exercise 2 <br>\n",
    "<p>Write a program that will check a person's age and adjust the ticket price. Regular ticket price is $10. Seniors (65+) get 25 percent off and children (ages 0-9) are half off. Print out the ticket price at the end</p>"
   ]
  },
  {
   "cell_type": "code",
   "execution_count": 145,
   "metadata": {},
   "outputs": [
    {
     "name": "stdout",
     "output_type": "stream",
     "text": [
      "Your ticket is $5.00\n"
     ]
    }
   ],
   "source": [
    "\n",
    " ticket = 10\n",
    "# person_age = 72 # Output: Your ticket is $7.50\n",
    "#  person_age = 47 # Output: Your ticket is $10\n",
    "# person_age = 8 # Output: Your ticket is $5.00\n",
    "\n",
    "\n",
    "if person_age >= 65:\n",
    "    ticket_price = 7.50\n",
    "    print(f\"Your ticket is ${ticket_price:.2f}\")\n",
    "elif person_age <= 9:\n",
    "    ticket_price = 5.00\n",
    "    print(f\"Your ticket is ${ticket_price:.2f}\")\n",
    "else:\n",
    "    print(f\"Your ticket is ${ticket:.2f}\")\n"
   ]
  },
  {
   "cell_type": "markdown",
   "metadata": {},
   "source": [
    "### Lists"
   ]
  },
  {
   "cell_type": "markdown",
   "metadata": {},
   "source": [
    "##### Declaring Lists"
   ]
  },
  {
   "cell_type": "code",
   "execution_count": null,
   "metadata": {},
   "outputs": [],
   "source": [
    "# Ordered collection of data; indexable; mutable; iterable; elements of the list can be of any data type\n",
    " # Empty list declation\n"
   ]
  },
  {
   "cell_type": "code",
   "execution_count": 146,
   "metadata": {},
   "outputs": [
    {
     "name": "stdout",
     "output_type": "stream",
     "text": [
      "[]\n",
      "<class 'list'>\n"
     ]
    }
   ],
   "source": [
    "list1 = []\n",
    "\n",
    "print(list1)\n",
    "print(type(list1))"
   ]
  },
  {
   "cell_type": "code",
   "execution_count": 147,
   "metadata": {},
   "outputs": [
    {
     "name": "stdout",
     "output_type": "stream",
     "text": [
      "['Dan', 'Catherine', 'William', 'Laura', 'Hannah', 'Jack', 'Frank']\n",
      "<class 'list'>\n"
     ]
    }
   ],
   "source": [
    "names = ['Dan', 'Catherine', 'William', 'Laura', 'Hannah', 'Jack', 'Frank']\n",
    "\n",
    "print(names)\n",
    "print(type(names))"
   ]
  },
  {
   "cell_type": "markdown",
   "metadata": {},
   "source": [
    "##### Indexing a List"
   ]
  },
  {
   "cell_type": "code",
   "execution_count": 165,
   "metadata": {},
   "outputs": [
    {
     "name": "stdout",
     "output_type": "stream",
     "text": [
      "Dan\n",
      "Catherine\n",
      "Frank\n",
      "Catherine\n",
      "['Catherine', 'William', 'Laura', 'Hannah', 'Jack', 'Frank']\n",
      "['Catherine', 'William', 'Laura', 'Hannah']\n",
      "['Dan', 'Catherine', 'William', 'Laura']\n",
      "['Dan', 'Catherine', 'William', 'Laura', 'Hannah', 'Jack', 'Frank']\n",
      "['Dan', 'William', 'Hannah', 'Frank']\n",
      "['Frank', 'Jack', 'Hannah', 'Laura', 'William', 'Catherine', 'Dan']\n",
      "['Catherine', 'Laura', 'Jack']\n"
     ]
    }
   ],
   "source": [
    "# list_var[start: stop: step] - start is INclusive, stop is EXclusive (whether its part or not part of your slice)\n",
    "# 0-based index (indices will always start at 0 -> length of list - 1) (if list of 10, your indises are 0-9)\n",
    "# Makes a copy, original list is unaffected\n",
    "\n",
    "# single element from a list - list_variable[index] (index value, should be an integer)\n",
    "\n",
    "print(names[0])\n",
    "print(names[1])\n",
    "print(names[6])\n",
    "print(names[-6])\n",
    "\n",
    "\n",
    "# Slicing a list -> grabbing part of the list - list_variable[index, index]\n",
    "\n",
    "# Slice from Catherine (the 2nd element to the end) -> leave the stop empty and this will default to end of list\n",
    "\n",
    "print(names[1:])\n",
    "\n",
    "# Slice the list frrom the 2nd element to the 5th element (start at index 1 and go up to but not including index 5)\n",
    "\n",
    "print(names[1:5])\n",
    "\n",
    "# Slice from the beginning of the list up to a given point\n",
    "\n",
    "print(names[:4])\n",
    "\n",
    "# slice the whole list - an easy way to make a copy of the list\n",
    "print(names[:])\n",
    "\n",
    "# slice every other element in the list\n",
    "print(names[::2])\n",
    "\n",
    "# negative steps will go backwards through a list - easy way to make a reversed copy of the list\n",
    "print(names[::-1])\n",
    "\n",
    "# Combo Time!\n",
    "\n",
    "print(names[1:6:2]) #names from 1 through 6, but every 2 \n",
    "\n"
   ]
  },
  {
   "cell_type": "code",
   "execution_count": 170,
   "metadata": {},
   "outputs": [
    {
     "name": "stdout",
     "output_type": "stream",
     "text": [
      "['Dan', 'Catherine', 'William', 'Laura', 'Hannah', 'Jack', 'Frank']\n",
      "['Dan', 'Catherine', 'Billy', 'Laura', 'Hannah', 'Jack', 'Frank']\n"
     ]
    }
   ],
   "source": [
    "# List are mutable - means you can change the values using item assignment\n",
    "# item assignment - list_var[index] = value\n",
    "\n",
    "\n",
    "print(names)\n",
    "\n",
    "names[2] = 'Billy'\n",
    "\n",
    "print(names)"
   ]
  },
  {
   "cell_type": "code",
   "execution_count": 172,
   "metadata": {},
   "outputs": [
    {
     "name": "stdout",
     "output_type": "stream",
     "text": [
      "Hello \n"
     ]
    },
    {
     "ename": "TypeError",
     "evalue": "'str' object does not support item assignment",
     "output_type": "error",
     "traceback": [
      "\u001b[0;31m---------------------------------------------------------------------------\u001b[0m",
      "\u001b[0;31mTypeError\u001b[0m                                 Traceback (most recent call last)",
      "Cell \u001b[0;32mIn[172], line 8\u001b[0m\n\u001b[1;32m      4\u001b[0m my_string \u001b[38;5;241m=\u001b[39m \u001b[38;5;124m\"\u001b[39m\u001b[38;5;124mHello World\u001b[39m\u001b[38;5;124m\"\u001b[39m\n\u001b[1;32m      6\u001b[0m \u001b[38;5;28mprint\u001b[39m(my_string[\u001b[38;5;241m0\u001b[39m:\u001b[38;5;241m6\u001b[39m])\n\u001b[0;32m----> 8\u001b[0m my_string[\u001b[38;5;241m0\u001b[39m] \u001b[38;5;241m=\u001b[39m \u001b[38;5;124m'\u001b[39m\u001b[38;5;124mJ\u001b[39m\u001b[38;5;124m'\u001b[39m\n",
      "\u001b[0;31mTypeError\u001b[0m: 'str' object does not support item assignment"
     ]
    }
   ],
   "source": [
    "# Strings are IMMUTABLE - can NOT be changed through item assignment\n",
    "# But they are indexable\n",
    "\n",
    "my_string = \"Hello World\"\n",
    "\n",
    "print(my_string[0:6])\n",
    "\n",
    "my_string[0] = 'J'"
   ]
  },
  {
   "cell_type": "markdown",
   "metadata": {},
   "source": [
    "##### .append()"
   ]
  },
  {
   "cell_type": "code",
   "execution_count": 174,
   "metadata": {},
   "outputs": [
    {
     "name": "stdout",
     "output_type": "stream",
     "text": [
      "['Dan', 'Catherine', 'Billy', 'Laura', 'Hannah', 'Jack', 'Frank']\n",
      "['Dan', 'Catherine', 'Billy', 'Laura', 'Hannah', 'Jack', 'Frank', 'Sarah']\n"
     ]
    }
   ],
   "source": [
    "# list_var.append(value) -> Add the value to the end of the list\n",
    "\n",
    "print(names)\n",
    "\n",
    "names.append('Sarah')\n",
    "print(names)\n",
    "\n"
   ]
  },
  {
   "cell_type": "markdown",
   "metadata": {},
   "source": [
    "##### .insert()"
   ]
  },
  {
   "cell_type": "code",
   "execution_count": 182,
   "metadata": {},
   "outputs": [
    {
     "name": "stdout",
     "output_type": "stream",
     "text": [
      "['Dan', 'Catherine', 'Lexie', 'Lexie', 'Lexie', 'Billy', 'Laura', 'Hannah', 'Jack', 'Frank', 'Sarah']\n",
      "['Dan', 'Catherine', 'Julian', 'Lexie', 'Lexie', 'Lexie', 'Billy', 'Laura', 'Hannah', 'Jack', 'Frank', 'Sarah']\n"
     ]
    }
   ],
   "source": [
    "# list_var.insert(index,value) -> Add the value at index and shift everything after to the right 1 index\n",
    "\n",
    "print(names)\n",
    "\n",
    "names.insert(2, 'Julian')\n",
    "\n",
    "print(names)"
   ]
  },
  {
   "cell_type": "markdown",
   "metadata": {},
   "source": [
    "##### .pop()"
   ]
  },
  {
   "cell_type": "code",
   "execution_count": 186,
   "metadata": {},
   "outputs": [
    {
     "name": "stdout",
     "output_type": "stream",
     "text": [
      "['Dan', 'Catherine', 'Julian', 'Lexie', 'Lexie', 'Lexie', 'Billy', 'Laura', 'Hannah', 'Jack']\n",
      "['Dan', 'Catherine', 'Julian', 'Lexie', 'Lexie', 'Lexie', 'Billy', 'Laura', 'Hannah']\n",
      "The last element that was removed: Jack\n"
     ]
    }
   ],
   "source": [
    "# list_var.pop() -> If no argument, pop removes and returns the last element of the list\n",
    "\n",
    "print(names)\n",
    "\n",
    "last_element = names.pop()\n",
    "\n",
    "print(names)\n",
    "print(f\"The last element that was removed: {last_element}\")"
   ]
  },
  {
   "cell_type": "code",
   "execution_count": 190,
   "metadata": {},
   "outputs": [
    {
     "name": "stdout",
     "output_type": "stream",
     "text": [
      "['Dan', 'Billy', 'Laura', 'Hannah']\n",
      "The second element: Lexie\n",
      "['Dan', 'Billy', 'Hannah']\n"
     ]
    }
   ],
   "source": [
    "# list_var.pop(index) -> will remove the element at index and return that item\n",
    "\n",
    "second_element = names.pop(1)\n",
    "\n",
    "print(names)\n",
    "\n",
    "print(f\"The second element: {second_element}\")\n",
    "\n",
    "names.pop(2)\n",
    "\n",
    "print(names)"
   ]
  },
  {
   "cell_type": "markdown",
   "metadata": {},
   "source": [
    "\n",
    "##### .remove()"
   ]
  },
  {
   "cell_type": "code",
   "execution_count": 192,
   "metadata": {},
   "outputs": [
    {
     "name": "stdout",
     "output_type": "stream",
     "text": [
      "['Dan', 'Billy', 'Hannah']\n",
      "['Dan', 'Hannah']\n"
     ]
    }
   ],
   "source": [
    "# value to be removed , not index\n",
    "# list_var.remove(value) -> will remove the FIRST instance of that value\n",
    "\n",
    "print(names)\n",
    "\n",
    "names.remove('Billy')\n",
    "\n",
    "print(names)"
   ]
  },
  {
   "cell_type": "code",
   "execution_count": 193,
   "metadata": {},
   "outputs": [
    {
     "name": "stdout",
     "output_type": "stream",
     "text": [
      "['hi', 'hi', 'hello', 'goodbye', 'hello']\n"
     ]
    }
   ],
   "source": [
    "random_list = ['hi', 'hello', 'hi', 'hello', 'goodbye', 'hello']\n",
    "\n",
    "random_list.remove('hello')\n",
    "\n",
    "print(random_list)"
   ]
  },
  {
   "cell_type": "markdown",
   "metadata": {},
   "source": [
    "##### del"
   ]
  },
  {
   "cell_type": "code",
   "execution_count": 196,
   "metadata": {},
   "outputs": [
    {
     "name": "stdout",
     "output_type": "stream",
     "text": [
      "['Dan', 'Hannah']\n",
      "['Dan']\n"
     ]
    }
   ],
   "source": [
    "# del list_var[index]\n",
    "# index to be removed, not value\n",
    "# BE CAREFUL with del, can cause indexing errors if not used carefully\n",
    "    \n",
    "print(names)\n",
    "\n",
    "del names[1]\n",
    "\n",
    "print(names)"
   ]
  },
  {
   "cell_type": "code",
   "execution_count": null,
   "metadata": {},
   "outputs": [],
   "source": [
    "# Can cause index errors if not careful (if index is out of range)"
   ]
  },
  {
   "cell_type": "markdown",
   "metadata": {},
   "source": [
    "##### Concatenating Two Lists"
   ]
  },
  {
   "cell_type": "code",
   "execution_count": 198,
   "metadata": {},
   "outputs": [
    {
     "name": "stdout",
     "output_type": "stream",
     "text": [
      "[1, 2, 3, 4, 5, 6, 7, 8]\n"
     ]
    }
   ],
   "source": [
    "# the plus operator (+) between two lists will append two lists together, not add up their values \n",
    "\n",
    "list_a = [1, 2, 3, 4]\n",
    "list_b = [5, 6, 7, 8]\n",
    "\n",
    "list_c = list_a + list_b\n",
    "\n",
    "print(list_c)"
   ]
  },
  {
   "cell_type": "markdown",
   "metadata": {},
   "source": [
    "##### Lists can hold any datatype"
   ]
  },
  {
   "cell_type": "code",
   "execution_count": null,
   "metadata": {},
   "outputs": [],
   "source": [
    "# lists can hold any dataype\n",
    "# It is *recommended* to only store one datatype in a list\n",
    "\n",
    "list_strings = ['a', 'b', 'c']\n",
    "list_ints = [1, 2, 3]\n",
    "list_floats = [1.34, 5.23, 1.23]\n",
    "list_bools = [True, True, False]\n",
    "list_all =['a', 1, 1.23, False]\n"
   ]
  },
  {
   "cell_type": "markdown",
   "metadata": {},
   "source": [
    "##### Lists Within Lists"
   ]
  },
  {
   "cell_type": "code",
   "execution_count": 199,
   "metadata": {},
   "outputs": [
    {
     "name": "stdout",
     "output_type": "stream",
     "text": [
      "[[1, 2, 3], [4, 5, 6], [7, 8, 9]]\n"
     ]
    }
   ],
   "source": [
    "# Lists are able to hold any type of element, including OTHER lists themsevles\n",
    "# they can also go as deep as you want, having many lists nested inside of each other\n",
    "\n",
    "list_of_lists = [[1, 2, 3], [4, 5, 6], [7, 8, 9]]\n",
    "\n",
    "print(list_of_lists)\n"
   ]
  },
  {
   "cell_type": "code",
   "execution_count": 200,
   "metadata": {},
   "outputs": [
    {
     "name": "stdout",
     "output_type": "stream",
     "text": [
      "<class 'list'> [1, 2, 3]\n",
      "<class 'list'> [4, 5, 6]\n",
      "<class 'list'> [7, 8, 9]\n"
     ]
    }
   ],
   "source": [
    "for element in list_of_lists:\n",
    "        print(type(element), element)"
   ]
  },
  {
   "cell_type": "code",
   "execution_count": 203,
   "metadata": {},
   "outputs": [
    {
     "name": "stdout",
     "output_type": "stream",
     "text": [
      "7\n"
     ]
    }
   ],
   "source": [
    "print(list_of_lists[2][0])"
   ]
  },
  {
   "cell_type": "markdown",
   "metadata": {},
   "source": [
    "### For Loops"
   ]
  },
  {
   "cell_type": "code",
   "execution_count": 204,
   "metadata": {},
   "outputs": [
    {
     "name": "stdout",
     "output_type": "stream",
     "text": [
      "Begin loop...\n",
      "5\n",
      "10\n",
      "15\n",
      "20\n",
      "25\n",
      "30\n",
      "End loop...\n"
     ]
    }
   ],
   "source": [
    "# for <keyword> in <iterable>:\n",
    "#     <statement>\n",
    "\n",
    "nums = [5, 10, 15, 20, 25, 30]\n",
    "\n",
    "print('Begin loop...')\n",
    "\n",
    "for num in nums:\n",
    "    print(num)\n",
    "    \n",
    "print('End loop...')"
   ]
  },
  {
   "cell_type": "code",
   "execution_count": 208,
   "metadata": {},
   "outputs": [
    {
     "name": "stdout",
     "output_type": "stream",
     "text": [
      "My favorite color is red\n",
      "My favorite color is orange\n",
      "My favorite color is yellow\n",
      "My favorite color is green\n",
      "My favorite color is blue\n",
      "My favorite color is indigo\n",
      "My favorite color is violet\n"
     ]
    }
   ],
   "source": [
    "colors = ['red', 'orange', 'yellow', 'green', 'blue', 'indigo', 'violet']\n",
    "\n",
    "for c in colors:\n",
    "    print(f\"My favorite color is {c}\")"
   ]
  },
  {
   "cell_type": "code",
   "execution_count": 209,
   "metadata": {},
   "outputs": [
    {
     "name": "stdout",
     "output_type": "stream",
     "text": [
      "My favorite color is red\n",
      "HELLO\n",
      "My favorite color is orange\n",
      "HELLO\n",
      "My favorite color is yellow\n",
      "HELLO\n",
      "My favorite color is green\n",
      "HELLO\n",
      "My favorite color is blue\n",
      "HELLO\n",
      "My favorite color is indigo\n",
      "HELLO\n",
      "My favorite color is violet\n",
      "HELLO\n",
      "The End\n"
     ]
    }
   ],
   "source": [
    "# Indentation Matters!\n",
    "# Anything indented under the for loop is part of the loop\n",
    "\n",
    "for c in colors:\n",
    "    print(f\"My favorite color is {c}\")\n",
    "    print(\"HELLO\")\n",
    "    \n",
    "print('The End')"
   ]
  },
  {
   "cell_type": "code",
   "execution_count": 210,
   "metadata": {},
   "outputs": [
    {
     "name": "stdout",
     "output_type": "stream",
     "text": [
      "I hate the color red\n",
      "I love the color orange\n",
      "I love the color yellow\n",
      "I love the color green\n",
      "I love the color blue\n",
      "I love the color indigo\n",
      "I love the color violet\n"
     ]
    }
   ],
   "source": [
    "for color in colors:\n",
    "    if color == 'red':\n",
    "        print(f\"I hate the color {color}\")\n",
    "    else:\n",
    "        print(f\"I love the color {color}\")"
   ]
  },
  {
   "cell_type": "code",
   "execution_count": 211,
   "metadata": {},
   "outputs": [
    {
     "name": "stdout",
     "output_type": "stream",
     "text": [
      "H\n",
      "e\n",
      "l\n",
      "l\n",
      "o\n",
      " \n",
      "h\n",
      "o\n",
      "w\n",
      " \n",
      "a\n",
      "r\n",
      "e\n",
      " \n",
      "y\n",
      "o\n",
      "u\n",
      " \n",
      "d\n",
      "o\n",
      "i\n",
      "n\n",
      "g\n",
      "?\n"
     ]
    }
   ],
   "source": [
    "# Loops can be for any element that is iterable. Strings are iterable\n",
    "\n",
    "my_string = \"Hello how are you doing?\"\n",
    "\n",
    "for char in my_string:\n",
    "    print(char)\n"
   ]
  },
  {
   "cell_type": "markdown",
   "metadata": {},
   "source": [
    "##### Continue Statement"
   ]
  },
  {
   "cell_type": "code",
   "execution_count": 212,
   "metadata": {},
   "outputs": [],
   "source": [
    "list_to_use = [10, 20, 30, 40, 50, 60, 70, 80, 90, 100]"
   ]
  },
  {
   "cell_type": "code",
   "execution_count": 213,
   "metadata": {},
   "outputs": [
    {
     "name": "stdout",
     "output_type": "stream",
     "text": [
      "10\n",
      "1.0\n",
      "The value of the element is 10\n",
      "20\n",
      "2.0\n",
      "The value of the element is 20\n",
      "30\n",
      "3.0\n",
      "The value of the element is 30\n",
      "40\n",
      "4.0\n",
      "The value of the element is 40\n",
      "60\n",
      "6.0\n",
      "The value of the element is 60\n",
      "70\n",
      "7.0\n",
      "The value of the element is 70\n",
      "80\n",
      "8.0\n",
      "The value of the element is 80\n",
      "90\n",
      "9.0\n",
      "The value of the element is 90\n",
      "100\n",
      "10.0\n",
      "The value of the element is 100\n"
     ]
    }
   ],
   "source": [
    "# will continue to next iteration\n",
    "# skip all code after it in the code block and go to the next item in the iterable\n",
    "\n",
    "\n",
    "for number in list_to_use:\n",
    "    if number == 50:\n",
    "        continue # Don't do anyhing more in this Loop, go to the next element in the iterable \n",
    "    print(number)\n",
    "    print(number/10)\n",
    "    print(f\"The value of the element is {number}\")\n",
    "    \n",
    "    \n",
    "    "
   ]
  },
  {
   "cell_type": "markdown",
   "metadata": {},
   "source": [
    "##### Break Statement"
   ]
  },
  {
   "cell_type": "code",
   "execution_count": 216,
   "metadata": {},
   "outputs": [
    {
     "name": "stdout",
     "output_type": "stream",
     "text": [
      "10\n",
      "1.0\n",
      "The value of the element is 10\n",
      "20\n",
      "2.0\n",
      "The value of the element is 20\n",
      "30\n",
      "3.0\n",
      "The value of the element is 30\n",
      "40\n",
      "4.0\n",
      "The value of the element is 40\n",
      "The loop has finished...\n"
     ]
    }
   ],
   "source": [
    "# will break out of current loop\n",
    "\n",
    "for number in list_to_use:\n",
    "    if number == 50:\n",
    "        break # End the Loop completely\n",
    "    print(number)\n",
    "    print(number/10)\n",
    "    print(f\"The value of the element is {number}\")\n",
    "\n",
    "print('The loop has finished...')"
   ]
  },
  {
   "cell_type": "markdown",
   "metadata": {},
   "source": [
    "##### Pass Statement"
   ]
  },
  {
   "cell_type": "code",
   "execution_count": null,
   "metadata": {},
   "outputs": [],
   "source": [
    "# mostly used as a placeholder, and will continue on same iteration"
   ]
  },
  {
   "cell_type": "code",
   "execution_count": 217,
   "metadata": {
    "scrolled": true
   },
   "outputs": [
    {
     "name": "stdout",
     "output_type": "stream",
     "text": [
      "10\n",
      "1.0\n",
      "The value of the element is 10\n",
      "20\n",
      "2.0\n",
      "The value of the element is 20\n",
      "30\n",
      "3.0\n",
      "The value of the element is 30\n",
      "40\n",
      "4.0\n",
      "The value of the element is 40\n",
      "The loop has finished...\n"
     ]
    }
   ],
   "source": [
    "for number in list_to_use:\n",
    "    if number == 50:\n",
    "        # implement in the future\n",
    "         pass # aka Do absolutely nothing, just hold the empty block\n",
    "    print(number)\n",
    "    print(number/10)\n",
    "    print(f\"The value of the element is {number}\")\n",
    "\n",
    "print('The loop has finished...')"
   ]
  },
  {
   "cell_type": "code",
   "execution_count": null,
   "metadata": {},
   "outputs": [],
   "source": [
    "def solution():\n",
    "    pass \n",
    "# defines the solution exists, just to hold the place of the empty code block, before having the actual "
   ]
  },
  {
   "cell_type": "markdown",
   "metadata": {},
   "source": [
    "##### Nested/Double For Loops"
   ]
  },
  {
   "cell_type": "code",
   "execution_count": 218,
   "metadata": {},
   "outputs": [
    {
     "name": "stdout",
     "output_type": "stream",
     "text": [
      "1\n",
      "2\n",
      "1\n",
      "2\n"
     ]
    }
   ],
   "source": [
    "# stacked\n",
    "\n",
    "a_list = [1, 2, 3, 4]\n",
    "\n",
    "for num1 in a_list:\n",
    "    print(num1)\n",
    "    \n",
    "for num2 in a_list:\n",
    "    print(num2)"
   ]
  },
  {
   "cell_type": "code",
   "execution_count": 220,
   "metadata": {},
   "outputs": [
    {
     "name": "stdout",
     "output_type": "stream",
     "text": [
      "1 1\n",
      "1 2\n",
      "2 1\n",
      "2 2\n"
     ]
    }
   ],
   "source": [
    "# nested\n",
    "\n",
    "# want to avoid nest lists because it will cause time inefficiency \n",
    "\n",
    "for num1 in a_list:\n",
    "    for num2 in a_list:\n",
    "        print(num1, num2)"
   ]
  },
  {
   "cell_type": "markdown",
   "metadata": {},
   "source": [
    "### While Loops"
   ]
  },
  {
   "cell_type": "code",
   "execution_count": 221,
   "metadata": {},
   "outputs": [
    {
     "name": "stdout",
     "output_type": "stream",
     "text": [
      "0\n",
      "1\n",
      "2\n",
      "3\n",
      "4\n",
      "5\n",
      "6\n",
      "7\n",
      "8\n",
      "9\n"
     ]
    }
   ],
   "source": [
    "x = 0\n",
    "\n",
    "while x < 10:\n",
    "    print(x)\n",
    "    x += 1"
   ]
  },
  {
   "cell_type": "code",
   "execution_count": null,
   "metadata": {},
   "outputs": [],
   "source": [
    "# while <conditional>:\n",
    "#     <statement to run while condition is true>\n",
    "\n",
    "from random import randint"
   ]
  },
  {
   "cell_type": "code",
   "execution_count": 227,
   "metadata": {},
   "outputs": [
    {
     "ename": "NameError",
     "evalue": "name 'randint' is not defined",
     "output_type": "error",
     "traceback": [
      "\u001b[0;31m---------------------------------------------------------------------------\u001b[0m",
      "\u001b[0;31mNameError\u001b[0m                                 Traceback (most recent call last)",
      "Cell \u001b[0;32mIn[227], line 1\u001b[0m\n\u001b[0;32m----> 1\u001b[0m random_number \u001b[38;5;241m=\u001b[39m randint(\u001b[38;5;241m1\u001b[39m,\u001b[38;5;241m10\u001b[39m)\n\u001b[1;32m      2\u001b[0m \u001b[38;5;28mprint\u001b[39m(\u001b[38;5;124mf\u001b[39m\u001b[38;5;124m\"\u001b[39m\u001b[38;5;124mThe starting random number: \u001b[39m\u001b[38;5;132;01m{\u001b[39;00mrandom_number\u001b[38;5;132;01m}\u001b[39;00m\u001b[38;5;124m\"\u001b[39m)\n\u001b[1;32m      4\u001b[0m \u001b[38;5;28;01mwhile\u001b[39;00m random_number \u001b[38;5;241m!=\u001b[39m\u001b[38;5;241m5\u001b[39m:\n",
      "\u001b[0;31mNameError\u001b[0m: name 'randint' is not defined"
     ]
    }
   ],
   "source": [
    "random_number = randint(1,10)\n",
    "print(f\"The starting random number: {random_number}\")\n",
    "\n",
    "while random_number !=5:\n",
    "    print(random_number)\n",
    "    randon_number = randint(1,10)\n",
    "    \n",
    "print('The final result:', random_number)"
   ]
  },
  {
   "cell_type": "markdown",
   "metadata": {},
   "source": [
    "##### Looping 'While True'"
   ]
  },
  {
   "cell_type": "code",
   "execution_count": 229,
   "metadata": {},
   "outputs": [
    {
     "name": "stdout",
     "output_type": "stream",
     "text": [
      "What would you like to do?look left\n",
      "Looking to the left\n",
      "What would you like to do?look left\n",
      "Looking to the left\n",
      "What would you like to do?quit\n"
     ]
    }
   ],
   "source": [
    "# this will continue to run forever if you do not have some sort of break\n",
    "\n",
    "while True:\n",
    "    ask = input('What would you like to do?')\n",
    "    if ask == 'quit':\n",
    "        break\n",
    "    elif ask == 'look left':\n",
    "        print('Looking to the left')\n",
    "    else:\n",
    "        print('You should have looked left!')\n",
    "    "
   ]
  },
  {
   "cell_type": "markdown",
   "metadata": {},
   "source": [
    "### Built-In Functions"
   ]
  },
  {
   "cell_type": "markdown",
   "metadata": {},
   "source": [
    "##### input()"
   ]
  },
  {
   "cell_type": "code",
   "execution_count": 231,
   "metadata": {},
   "outputs": [
    {
     "name": "stdout",
     "output_type": "stream",
     "text": [
      "Enter something: Lexie\n",
      "Lexie\n"
     ]
    }
   ],
   "source": [
    "# input(question) => ALWAYS RETURNS A STRING\n",
    "\n",
    "x = input('Enter something: ')\n",
    "print(x)"
   ]
  },
  {
   "cell_type": "code",
   "execution_count": 235,
   "metadata": {},
   "outputs": [
    {
     "name": "stdout",
     "output_type": "stream",
     "text": [
      "How many siblings do you have?801\n",
      "801 <class 'str'>\n"
     ]
    }
   ],
   "source": [
    "siblings = input('How many siblings do you have?')\n",
    "\n",
    "print(siblings, type(siblings))"
   ]
  },
  {
   "cell_type": "markdown",
   "metadata": {},
   "source": [
    "##### range()"
   ]
  },
  {
   "cell_type": "code",
   "execution_count": 236,
   "metadata": {},
   "outputs": [
    {
     "name": "stdout",
     "output_type": "stream",
     "text": [
      "Help on class range in module builtins:\n",
      "\n",
      "class range(object)\n",
      " |  range(stop) -> range object\n",
      " |  range(start, stop[, step]) -> range object\n",
      " |  \n",
      " |  Return an object that produces a sequence of integers from start (inclusive)\n",
      " |  to stop (exclusive) by step.  range(i, j) produces i, i+1, i+2, ..., j-1.\n",
      " |  start defaults to 0, and stop is omitted!  range(4) produces 0, 1, 2, 3.\n",
      " |  These are exactly the valid indices for a list of 4 elements.\n",
      " |  When step is given, it specifies the increment (or decrement).\n",
      " |  \n",
      " |  Methods defined here:\n",
      " |  \n",
      " |  __bool__(self, /)\n",
      " |      True if self else False\n",
      " |  \n",
      " |  __contains__(self, key, /)\n",
      " |      Return key in self.\n",
      " |  \n",
      " |  __eq__(self, value, /)\n",
      " |      Return self==value.\n",
      " |  \n",
      " |  __ge__(self, value, /)\n",
      " |      Return self>=value.\n",
      " |  \n",
      " |  __getattribute__(self, name, /)\n",
      " |      Return getattr(self, name).\n",
      " |  \n",
      " |  __getitem__(self, key, /)\n",
      " |      Return self[key].\n",
      " |  \n",
      " |  __gt__(self, value, /)\n",
      " |      Return self>value.\n",
      " |  \n",
      " |  __hash__(self, /)\n",
      " |      Return hash(self).\n",
      " |  \n",
      " |  __iter__(self, /)\n",
      " |      Implement iter(self).\n",
      " |  \n",
      " |  __le__(self, value, /)\n",
      " |      Return self<=value.\n",
      " |  \n",
      " |  __len__(self, /)\n",
      " |      Return len(self).\n",
      " |  \n",
      " |  __lt__(self, value, /)\n",
      " |      Return self<value.\n",
      " |  \n",
      " |  __ne__(self, value, /)\n",
      " |      Return self!=value.\n",
      " |  \n",
      " |  __reduce__(...)\n",
      " |      Helper for pickle.\n",
      " |  \n",
      " |  __repr__(self, /)\n",
      " |      Return repr(self).\n",
      " |  \n",
      " |  __reversed__(...)\n",
      " |      Return a reverse iterator.\n",
      " |  \n",
      " |  count(...)\n",
      " |      rangeobject.count(value) -> integer -- return number of occurrences of value\n",
      " |  \n",
      " |  index(...)\n",
      " |      rangeobject.index(value) -> integer -- return index of value.\n",
      " |      Raise ValueError if the value is not present.\n",
      " |  \n",
      " |  ----------------------------------------------------------------------\n",
      " |  Static methods defined here:\n",
      " |  \n",
      " |  __new__(*args, **kwargs) from builtins.type\n",
      " |      Create and return a new object.  See help(type) for accurate signature.\n",
      " |  \n",
      " |  ----------------------------------------------------------------------\n",
      " |  Data descriptors defined here:\n",
      " |  \n",
      " |  start\n",
      " |  \n",
      " |  step\n",
      " |  \n",
      " |  stop\n",
      "\n"
     ]
    }
   ],
   "source": [
    "#Start, Stop, Step \n",
    "\n",
    "# More memory efficient than \n",
    "\n",
    "help(range)"
   ]
  },
  {
   "cell_type": "code",
   "execution_count": 237,
   "metadata": {},
   "outputs": [
    {
     "name": "stdout",
     "output_type": "stream",
     "text": [
      "0\n",
      "1\n",
      "2\n",
      "3\n",
      "4\n",
      "5\n",
      "6\n",
      "7\n",
      "8\n",
      "9\n"
     ]
    }
   ],
   "source": [
    "for x in range(10):\n",
    "    print(x)"
   ]
  },
  {
   "cell_type": "code",
   "execution_count": 238,
   "metadata": {},
   "outputs": [
    {
     "name": "stdout",
     "output_type": "stream",
     "text": [
      "10\n",
      "11\n",
      "12\n",
      "13\n",
      "14\n",
      "15\n",
      "16\n",
      "17\n",
      "18\n",
      "19\n"
     ]
    }
   ],
   "source": [
    "for y in range(10, 20):\n",
    "    print(y)\n",
    "    "
   ]
  },
  {
   "cell_type": "code",
   "execution_count": 239,
   "metadata": {},
   "outputs": [
    {
     "name": "stdout",
     "output_type": "stream",
     "text": [
      "20\n",
      "25\n",
      "30\n",
      "35\n",
      "40\n",
      "45\n"
     ]
    }
   ],
   "source": [
    "for z in range(20, 50, 5):\n",
    "    print(z)"
   ]
  },
  {
   "cell_type": "markdown",
   "metadata": {},
   "source": [
    "##### len()"
   ]
  },
  {
   "cell_type": "code",
   "execution_count": 240,
   "metadata": {},
   "outputs": [
    {
     "name": "stdout",
     "output_type": "stream",
     "text": [
      "5\n"
     ]
    }
   ],
   "source": [
    "# check Length of variable\n",
    "\n",
    "states = ['Illinois', 'Indiana', 'Iowa', 'Wisconsin', 'Minnesota']\n",
    "\n",
    "print(len(states))"
   ]
  },
  {
   "cell_type": "code",
   "execution_count": 241,
   "metadata": {},
   "outputs": [
    {
     "name": "stdout",
     "output_type": "stream",
     "text": [
      "16\n"
     ]
    }
   ],
   "source": [
    "full_name = 'Alexandria Young'\n",
    "\n",
    "print(len(full_name))"
   ]
  },
  {
   "cell_type": "markdown",
   "metadata": {},
   "source": [
    "##### help()"
   ]
  },
  {
   "cell_type": "code",
   "execution_count": null,
   "metadata": {
    "scrolled": true
   },
   "outputs": [],
   "source": [
    "help(list)"
   ]
  },
  {
   "cell_type": "markdown",
   "metadata": {},
   "source": [
    "##### isinstance()"
   ]
  },
  {
   "cell_type": "code",
   "execution_count": 242,
   "metadata": {},
   "outputs": [
    {
     "data": {
      "text/plain": [
       "True"
      ]
     },
     "execution_count": 242,
     "metadata": {},
     "output_type": "execute_result"
    }
   ],
   "source": [
    "# Check a variable to find out what Object family it belongs to\n",
    "# isinstace(var, type)\n",
    "\n",
    "# will return a true or false\n",
    "\n",
    "age = '55'\n",
    "\n",
    "isinstance(age, str)"
   ]
  },
  {
   "cell_type": "code",
   "execution_count": 243,
   "metadata": {},
   "outputs": [
    {
     "data": {
      "text/plain": [
       "False"
      ]
     },
     "execution_count": 243,
     "metadata": {},
     "output_type": "execute_result"
    }
   ],
   "source": [
    "isinstance(age, int)"
   ]
  },
  {
   "cell_type": "markdown",
   "metadata": {},
   "source": [
    "##### Looping Through Lists"
   ]
  },
  {
   "cell_type": "code",
   "execution_count": null,
   "metadata": {},
   "outputs": [],
   "source": [
    "# two ways to loop through a list, using range for index and in for values\n",
    "\n",
    "# Loop with a for loop (By Index)\n",
    "\n",
    "    \n",
    "# Loop with a for loop (Using the 'in' keyword)\n",
    "\n"
   ]
  },
  {
   "cell_type": "markdown",
   "metadata": {},
   "source": [
    "## Exercise #1 <br>\n",
    "<p>Cube Number Test... Print out all cubed numbers up to the total value 1000. Meaning that if the cubed number is over 1000 break the loop.</p>"
   ]
  },
  {
   "cell_type": "code",
   "execution_count": 303,
   "metadata": {},
   "outputs": [
    {
     "name": "stdout",
     "output_type": "stream",
     "text": [
      "[0, 1, 8, 27, 64, 125, 216, 343, 512, 729, 1000]\n"
     ]
    }
   ],
   "source": [
    "# continue cubing numbers and print out cubed numbers until you get to 1000 (should be 11 lines)\n",
    "\n",
    "\n",
    "# for y in range (0, 1000):\n",
    "#     x**3 == y\n",
    "#     if y < 1000:\n",
    "#         print(y)\n",
    "\n",
    "list=[]\n",
    "\n",
    "for x in range (0, 1000):\n",
    "    list.append(x**3)\n",
    "    if x**3 >= 1000:\n",
    "        break\n",
    "    \n",
    "    \n",
    "print(list)\n"
   ]
  },
  {
   "cell_type": "markdown",
   "metadata": {},
   "source": [
    "## Exercise #2 <br>\n",
    "<p>Get first prime numbers up to 100</p>"
   ]
  },
  {
   "cell_type": "code",
   "execution_count": 325,
   "metadata": {
    "scrolled": false
   },
   "outputs": [
    {
     "name": "stdout",
     "output_type": "stream",
     "text": [
      "[3, 5, 7, 9, 11, 13, 15, 17, 19, 21, 23, 25, 27, 29, 31, 33, 35, 37, 39, 41, 43, 45, 47, 49, 51, 53, 55, 57, 59, 61, 63, 65, 67, 69, 71, 73, 75, 77, 79, 81, 83, 85, 87, 89, 91, 93, 95, 97, 99]\n"
     ]
    }
   ],
   "source": [
    "# HINT::\n",
    "# An else after an if runs if the if didn’t\n",
    "# An else after a for runs if the for didn’t break\n",
    "\n",
    "# Prime number - A number that is divisible by only 1 and itself\n",
    " \n",
    "\n",
    "prime_list = []\n",
    "\n",
    "for n in range(2, 101):\n",
    "    if (n % 2) != 0:\n",
    "        prime_list.append(n)\n",
    "print(prime_list)"
   ]
  },
  {
   "cell_type": "code",
   "execution_count": 248,
   "metadata": {},
   "outputs": [
    {
     "name": "stdout",
     "output_type": "stream",
     "text": [
      "0\n",
      "1\n",
      "2\n",
      "3\n",
      "4\n",
      "5\n",
      "6\n",
      "7\n",
      "8\n",
      "9\n",
      "Goodbye!\n"
     ]
    }
   ],
   "source": [
    "for i in range(10):\n",
    "    print(i)\n",
    "    if i == 80:\n",
    "        print('I is 8!')\n",
    "        break\n",
    "else:\n",
    "    print('Goodbye!')"
   ]
  },
  {
   "cell_type": "code",
   "execution_count": null,
   "metadata": {},
   "outputs": [],
   "source": []
  },
  {
   "cell_type": "markdown",
   "metadata": {},
   "source": [
    "# Exercise 3 <br>\n",
    "<p>Take in a users input for their age, if they are younger than 18 print kids, if they're 18 to 65 print adults, else print seniors</p>"
   ]
  },
  {
   "cell_type": "code",
   "execution_count": 268,
   "metadata": {},
   "outputs": [
    {
     "name": "stdout",
     "output_type": "stream",
     "text": [
      "Enter your Age65\n",
      "Senior\n"
     ]
    }
   ],
   "source": [
    "x = input('Enter your Age') \n",
    "\n",
    "y = int(x)\n",
    "\n",
    "if y <= 17:\n",
    "    print(\"Child\")\n",
    "elif y >= 18 and y <= 64:\n",
    "    print(\"Adult\")\n",
    "else:\n",
    "    print(\"Senior\")\n"
   ]
  }
 ],
 "metadata": {
  "kernelspec": {
   "display_name": "Python 3 (ipykernel)",
   "language": "python",
   "name": "python3"
  },
  "language_info": {
   "codemirror_mode": {
    "name": "ipython",
    "version": 3
   },
   "file_extension": ".py",
   "mimetype": "text/x-python",
   "name": "python",
   "nbconvert_exporter": "python",
   "pygments_lexer": "ipython3",
   "version": "3.11.5"
  }
 },
 "nbformat": 4,
 "nbformat_minor": 2
}
